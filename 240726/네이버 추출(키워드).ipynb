{
 "cells": [
  {
   "cell_type": "code",
   "execution_count": 2,
   "metadata": {},
   "outputs": [
    {
     "name": "stdout",
     "output_type": "stream",
     "text": [
      "Requirement already satisfied: requests in /opt/homebrew/lib/python3.11/site-packages (2.31.0)\n",
      "Requirement already satisfied: beautifulsoup4 in /opt/homebrew/lib/python3.11/site-packages (4.12.3)\n",
      "Requirement already satisfied: schedule in /opt/homebrew/lib/python3.11/site-packages (1.2.2)\n",
      "Requirement already satisfied: charset-normalizer<4,>=2 in /opt/homebrew/lib/python3.11/site-packages (from requests) (3.3.2)\n",
      "Requirement already satisfied: idna<4,>=2.5 in /opt/homebrew/lib/python3.11/site-packages (from requests) (3.6)\n",
      "Requirement already satisfied: urllib3<3,>=1.21.1 in /opt/homebrew/lib/python3.11/site-packages (from requests) (2.1.0)\n",
      "Requirement already satisfied: certifi>=2017.4.17 in /opt/homebrew/lib/python3.11/site-packages (from requests) (2023.11.17)\n",
      "Requirement already satisfied: soupsieve>1.2 in /opt/homebrew/lib/python3.11/site-packages (from beautifulsoup4) (2.5)\n",
      "\n",
      "\u001b[1m[\u001b[0m\u001b[34;49mnotice\u001b[0m\u001b[1;39;49m]\u001b[0m\u001b[39;49m A new release of pip is available: \u001b[0m\u001b[31;49m23.2.1\u001b[0m\u001b[39;49m -> \u001b[0m\u001b[32;49m24.1.2\u001b[0m\n",
      "\u001b[1m[\u001b[0m\u001b[34;49mnotice\u001b[0m\u001b[1;39;49m]\u001b[0m\u001b[39;49m To update, run: \u001b[0m\u001b[32;49mpython3.11 -m pip install --upgrade pip\u001b[0m\n",
      "Note: you may need to restart the kernel to use updated packages.\n"
     ]
    }
   ],
   "source": [
    "pip install requests beautifulsoup4 schedule"
   ]
  },
  {
   "cell_type": "code",
   "execution_count": 2,
   "metadata": {},
   "outputs": [
    {
     "name": "stdout",
     "output_type": "stream",
     "text": [
      "Saved 10 news titles to news_titles_20240726-132408.txt\n"
     ]
    }
   ],
   "source": [
    "import requests\n",
    "from bs4 import BeautifulSoup\n",
    "import time\n",
    "\n",
    "def get_news_titles(query):\n",
    "    url = f\"https://search.naver.com/search.naver?ssc=tab.news.all&where=news&sm=tab_jum&query={query}\"\n",
    "    headers = {\n",
    "        'User-Agent': 'Mozilla/5.0 (Windows NT 10.0; Win64; x64) AppleWebKit/537.36 (KHTML, like Gecko) Chrome/91.0.4472.124 Safari/537.36'\n",
    "    }\n",
    "    \n",
    "    response = requests.get(url, headers=headers)\n",
    "    soup = BeautifulSoup(response.text, 'html.parser')\n",
    "    \n",
    "    news_titles = []\n",
    "    for title in soup.select('.news_tit'):\n",
    "        news_titles.append(title.text)\n",
    "    \n",
    "    return news_titles\n",
    "\n",
    "def save_to_file(titles):\n",
    "    current_time = time.strftime(\"%Y%m%d-%H%M%S\")\n",
    "    filename = f\"news_titles_{current_time}.txt\"\n",
    "    \n",
    "    with open(filename, 'w', encoding='utf-8') as f:\n",
    "        for idx, title in enumerate(\n",
    "\t\t\ttitles, start=1):\n",
    "            f.write(f\"{idx}. {title}\\n\")\n",
    "    \n",
    "    print(f\"Saved {len(titles)} news titles to {filename}\")\n",
    "\n",
    "def main():\n",
    "    query = input(\"검색어를 입력하세요 (예: 오늘의 IT 트렌드): \")\n",
    "    titles = get_news_titles(query)\n",
    "    save_to_file(titles)\n",
    "\n",
    "if __name__ == \"__main__\":\n",
    "    main()\n"
   ]
  },
  {
   "cell_type": "code",
   "execution_count": 3,
   "metadata": {},
   "outputs": [
    {
     "name": "stdout",
     "output_type": "stream",
     "text": [
      "1. [오늘의 핫 이슈] 독일 소매판매 발표\n",
      "2. [오늘의 핫 이슈] 7월, 한국 금리 결정\n",
      "3. [오늘의 핫 이슈] 파월 美 연준 의장 증언\n",
      "4. [오늘의 핫 이슈] 한국 6월 소비자물가지수 발표\n",
      "5. [오늘의 핫 이슈] 미국, 6월 ISM 비제조업구매자지수 발표\n",
      "6. [오늘의 핫 이슈] 미국 신규 실업수당청구건수 발표\n",
      "7. [오늘의 핫 이슈] 미국 소매판매 지표 발표\n",
      "8. 尹 쏘아올린 테마주 '동해 유전'…오늘의 '픽'은 강관·시멘트株[핫종목]\n",
      "9. [오늘의 핫 이슈] 한국 소비자물가 지수 발표\n",
      "10. [오늘의 핫 이슈] 4월 소비자물가지수, 전년대비 2.9% 상승 기록\n"
     ]
    }
   ],
   "source": [
    "import requests\n",
    "from bs4 import BeautifulSoup\n",
    "\n",
    "def get_news_titles(query):\n",
    "    url = f\"https://search.naver.com/search.naver?ssc=tab.news.all&where=news&sm=tab_jum&query={query}\"\n",
    "    headers = {\n",
    "        'User-Agent': 'Mozilla/5.0 (Windows NT 10.0; Win64; x64) AppleWebKit/537.36 (KHTML, like Gecko) Chrome/91.0.4472.124 Safari/537.36'\n",
    "    }\n",
    "    \n",
    "    response = requests.get(url, headers=headers)\n",
    "    soup = BeautifulSoup(response.text, 'html.parser')\n",
    "    \n",
    "    news_titles = []\n",
    "    for title in soup.select('.news_tit'):\n",
    "        news_titles.append(title.text)\n",
    "    \n",
    "    return news_titles\n",
    "\n",
    "def display_titles(titles):\n",
    "    for idx, title in enumerate(titles, start=1):\n",
    "        print(f\"{idx}. {title}\")\n",
    "\n",
    "def main():\n",
    "    query = input(\"검색어를 입력하세요 (예: 오늘의 IT 트렌드): \")\n",
    "    titles = get_news_titles(query)\n",
    "    display_titles(titles)\n",
    "\n",
    "if __name__ == \"__main__\":\n",
    "    main()\n"
   ]
  }
 ],
 "metadata": {
  "kernelspec": {
   "display_name": "Python 3",
   "language": "python",
   "name": "python3"
  },
  "language_info": {
   "codemirror_mode": {
    "name": "ipython",
    "version": 3
   },
   "file_extension": ".py",
   "mimetype": "text/x-python",
   "name": "python",
   "nbconvert_exporter": "python",
   "pygments_lexer": "ipython3",
   "version": "3.11.6"
  }
 },
 "nbformat": 4,
 "nbformat_minor": 2
}
